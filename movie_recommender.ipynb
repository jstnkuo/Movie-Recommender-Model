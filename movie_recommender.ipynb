{
 "cells": [
  {
   "cell_type": "markdown",
   "id": "378c88f0",
   "metadata": {},
   "source": [
    "## Data Delivery and ETL"
   ]
  },
  {
   "cell_type": "code",
   "execution_count": 1,
   "id": "87578e67",
   "metadata": {},
   "outputs": [],
   "source": [
    "# import dependencies\n",
    "import pandas as pd\n",
    "from tabulate import tabulate\n",
    "from sklearn.feature_extraction.text import CountVectorizer\n",
    "from sklearn.metrics.pairwise import cosine_similarity\n",
    "import matplotlib.pyplot as plt\n",
    "import pandas as pd\n",
    "import numpy as np\n",
    "from sklearn.model_selection import train_test_split\n",
    "from sklearn.metrics.pairwise import cosine_similarity\n",
    "from sklearn.ensemble import RandomForestRegressor\n",
    "from sklearn.metrics import mean_squared_error\n"
   ]
  },
  {
   "cell_type": "code",
   "execution_count": 2,
   "id": "7573db37",
   "metadata": {},
   "outputs": [
    {
     "name": "stdout",
     "output_type": "stream",
     "text": [
      " \n",
      "Display movie_df:\n",
      "╒════╤═══════════╤════════════════════════════════════╤═════════════════════════════════════════════╕\n",
      "│    │   movieId │ title                              │ genres                                      │\n",
      "╞════╪═══════════╪════════════════════════════════════╪═════════════════════════════════════════════╡\n",
      "│  0 │         1 │ Toy Story (1995)                   │ Adventure|Animation|Children|Comedy|Fantasy │\n",
      "├────┼───────────┼────────────────────────────────────┼─────────────────────────────────────────────┤\n",
      "│  1 │         2 │ Jumanji (1995)                     │ Adventure|Children|Fantasy                  │\n",
      "├────┼───────────┼────────────────────────────────────┼─────────────────────────────────────────────┤\n",
      "│  2 │         3 │ Grumpier Old Men (1995)            │ Comedy|Romance                              │\n",
      "├────┼───────────┼────────────────────────────────────┼─────────────────────────────────────────────┤\n",
      "│  3 │         4 │ Waiting to Exhale (1995)           │ Comedy|Drama|Romance                        │\n",
      "├────┼───────────┼────────────────────────────────────┼─────────────────────────────────────────────┤\n",
      "│  4 │         5 │ Father of the Bride Part II (1995) │ Comedy                                      │\n",
      "╘════╧═══════════╧════════════════════════════════════╧═════════════════════════════════════════════╛\n",
      " \n"
     ]
    },
    {
     "data": {
      "text/html": [
       "<div>\n",
       "<style scoped>\n",
       "    .dataframe tbody tr th:only-of-type {\n",
       "        vertical-align: middle;\n",
       "    }\n",
       "\n",
       "    .dataframe tbody tr th {\n",
       "        vertical-align: top;\n",
       "    }\n",
       "\n",
       "    .dataframe thead th {\n",
       "        text-align: right;\n",
       "    }\n",
       "</style>\n",
       "<table border=\"1\" class=\"dataframe\">\n",
       "  <thead>\n",
       "    <tr style=\"text-align: right;\">\n",
       "      <th></th>\n",
       "      <th>movieId</th>\n",
       "      <th>title</th>\n",
       "      <th>genres</th>\n",
       "    </tr>\n",
       "  </thead>\n",
       "  <tbody>\n",
       "    <tr>\n",
       "      <th>0</th>\n",
       "      <td>1</td>\n",
       "      <td>Toy Story (1995)</td>\n",
       "      <td>Adventure|Animation|Children|Comedy|Fantasy</td>\n",
       "    </tr>\n",
       "    <tr>\n",
       "      <th>1</th>\n",
       "      <td>2</td>\n",
       "      <td>Jumanji (1995)</td>\n",
       "      <td>Adventure|Children|Fantasy</td>\n",
       "    </tr>\n",
       "    <tr>\n",
       "      <th>2</th>\n",
       "      <td>3</td>\n",
       "      <td>Grumpier Old Men (1995)</td>\n",
       "      <td>Comedy|Romance</td>\n",
       "    </tr>\n",
       "    <tr>\n",
       "      <th>3</th>\n",
       "      <td>4</td>\n",
       "      <td>Waiting to Exhale (1995)</td>\n",
       "      <td>Comedy|Drama|Romance</td>\n",
       "    </tr>\n",
       "    <tr>\n",
       "      <th>4</th>\n",
       "      <td>5</td>\n",
       "      <td>Father of the Bride Part II (1995)</td>\n",
       "      <td>Comedy</td>\n",
       "    </tr>\n",
       "  </tbody>\n",
       "</table>\n",
       "</div>"
      ],
      "text/plain": [
       "   movieId                               title  \\\n",
       "0        1                    Toy Story (1995)   \n",
       "1        2                      Jumanji (1995)   \n",
       "2        3             Grumpier Old Men (1995)   \n",
       "3        4            Waiting to Exhale (1995)   \n",
       "4        5  Father of the Bride Part II (1995)   \n",
       "\n",
       "                                        genres  \n",
       "0  Adventure|Animation|Children|Comedy|Fantasy  \n",
       "1                   Adventure|Children|Fantasy  \n",
       "2                               Comedy|Romance  \n",
       "3                         Comedy|Drama|Romance  \n",
       "4                                       Comedy  "
      ]
     },
     "execution_count": 2,
     "metadata": {},
     "output_type": "execute_result"
    }
   ],
   "source": [
    "# get movies dataset\n",
    "movie_path = \"Resources/movies.csv\"\n",
    "movie_df = pd.read_csv(movie_path)\n",
    "print(' ')\n",
    "print('Display movie_df:')\n",
    "print(tabulate(movie_df[:5], headers='keys', tablefmt='fancy_grid'))\n",
    "print(' ')\n",
    "movie_df.head()"
   ]
  },
  {
   "cell_type": "code",
   "execution_count": 3,
   "id": "019be920",
   "metadata": {},
   "outputs": [
    {
     "name": "stderr",
     "output_type": "stream",
     "text": [
      "C:\\Users\\justi\\AppData\\Local\\Temp\\ipykernel_29092\\3969095623.py:4: FutureWarning: The default value of regex will change from True to False in a future version.\n",
      "  movie_df['title'] = movie_df['title'].str.replace(r'\\s*\\(\\d{4}\\)', '')\n"
     ]
    },
    {
     "data": {
      "text/html": [
       "<div>\n",
       "<style scoped>\n",
       "    .dataframe tbody tr th:only-of-type {\n",
       "        vertical-align: middle;\n",
       "    }\n",
       "\n",
       "    .dataframe tbody tr th {\n",
       "        vertical-align: top;\n",
       "    }\n",
       "\n",
       "    .dataframe thead th {\n",
       "        text-align: right;\n",
       "    }\n",
       "</style>\n",
       "<table border=\"1\" class=\"dataframe\">\n",
       "  <thead>\n",
       "    <tr style=\"text-align: right;\">\n",
       "      <th></th>\n",
       "      <th>movieId</th>\n",
       "      <th>title</th>\n",
       "      <th>genres</th>\n",
       "      <th>year</th>\n",
       "    </tr>\n",
       "  </thead>\n",
       "  <tbody>\n",
       "    <tr>\n",
       "      <th>14156</th>\n",
       "      <td>73268</td>\n",
       "      <td>Daybreakers</td>\n",
       "      <td>Action|Drama|Horror|Thriller</td>\n",
       "      <td>2010</td>\n",
       "    </tr>\n",
       "    <tr>\n",
       "      <th>14161</th>\n",
       "      <td>73319</td>\n",
       "      <td>Leap Year</td>\n",
       "      <td>Comedy|Romance</td>\n",
       "      <td>2010</td>\n",
       "    </tr>\n",
       "    <tr>\n",
       "      <th>14162</th>\n",
       "      <td>73321</td>\n",
       "      <td>Book of Eli, The</td>\n",
       "      <td>Action|Adventure|Drama</td>\n",
       "      <td>2010</td>\n",
       "    </tr>\n",
       "    <tr>\n",
       "      <th>14222</th>\n",
       "      <td>73744</td>\n",
       "      <td>If You Love (Jos rakastat)</td>\n",
       "      <td>Drama|Musical|Romance</td>\n",
       "      <td>2010</td>\n",
       "    </tr>\n",
       "    <tr>\n",
       "      <th>14256</th>\n",
       "      <td>73929</td>\n",
       "      <td>Legion</td>\n",
       "      <td>Action|Fantasy|Horror|Thriller</td>\n",
       "      <td>2010</td>\n",
       "    </tr>\n",
       "  </tbody>\n",
       "</table>\n",
       "</div>"
      ],
      "text/plain": [
       "       movieId                       title                          genres  \\\n",
       "14156    73268                 Daybreakers    Action|Drama|Horror|Thriller   \n",
       "14161    73319                   Leap Year                  Comedy|Romance   \n",
       "14162    73321            Book of Eli, The          Action|Adventure|Drama   \n",
       "14222    73744  If You Love (Jos rakastat)           Drama|Musical|Romance   \n",
       "14256    73929                      Legion  Action|Fantasy|Horror|Thriller   \n",
       "\n",
       "       year  \n",
       "14156  2010  \n",
       "14161  2010  \n",
       "14162  2010  \n",
       "14222  2010  \n",
       "14256  2010  "
      ]
     },
     "execution_count": 3,
     "metadata": {},
     "output_type": "execute_result"
    }
   ],
   "source": [
    "# Splitting the title column\n",
    "# Filtering out movies with a year greater than or equal to 2010\n",
    "movie_df['year'] = movie_df['title'].str.extract(r'\\((\\d{4})\\)')\n",
    "movie_df['title'] = movie_df['title'].str.replace(r'\\s*\\(\\d{4}\\)', '')\n",
    "movie_df['year'] = movie_df['year'].fillna(0)\n",
    "movie_df['year'] = movie_df['year'].astype('int')\n",
    "movie_df = movie_df[movie_df['year']>=2010]\n",
    "movie_df.head()"
   ]
  },
  {
   "cell_type": "code",
   "execution_count": 4,
   "id": "6c208ea2",
   "metadata": {},
   "outputs": [
    {
     "name": "stdout",
     "output_type": "stream",
     "text": [
      " \n",
      "Display rating_df:\n",
      "╒════╤═══════════╤══════════╕\n",
      "│    │   movieId │   rating │\n",
      "╞════╪═══════════╪══════════╡\n",
      "│  0 │         1 │  3.89371 │\n",
      "├────┼───────────┼──────────┤\n",
      "│  1 │         2 │  3.25153 │\n",
      "├────┼───────────┼──────────┤\n",
      "│  2 │         3 │  3.14203 │\n",
      "├────┼───────────┼──────────┤\n",
      "│  3 │         4 │  2.85355 │\n",
      "├────┼───────────┼──────────┤\n",
      "│  4 │         5 │  3.05843 │\n",
      "╘════╧═══════════╧══════════╛\n",
      " \n"
     ]
    }
   ],
   "source": [
    "# get a ratings dataset grouped by 'movieId' with the average rating\n",
    "rating_path = \"Resources/ratings_filter.csv\"\n",
    "rating_df = pd.read_csv(rating_path)\n",
    "# rating_df = rating_df[['movieId', 'rating']].groupby('movieId').mean()\n",
    "# rating_df = rating_df.reset_index()\n",
    "rating_df = rating_df[['movieId', 'rating']]\n",
    "rating_df.head()\n",
    "print(' ')\n",
    "print('Display rating_df:')\n",
    "print(tabulate(rating_df[:5], headers='keys', tablefmt='fancy_grid'))\n",
    "print(' ')"
   ]
  },
  {
   "cell_type": "code",
   "execution_count": 5,
   "id": "1b1ad460",
   "metadata": {},
   "outputs": [
    {
     "name": "stdout",
     "output_type": "stream",
     "text": [
      " \n",
      "Display new_df:\n",
      "╒════╤═══════════╤════════════════════════════╤════════════════════════════════╤══════════╕\n",
      "│    │   movieId │ title                      │ genres                         │   rating │\n",
      "╞════╪═══════════╪════════════════════════════╪════════════════════════════════╪══════════╡\n",
      "│  0 │     73268 │ Daybreakers                │ Action|Drama|Horror|Thriller   │  3.22421 │\n",
      "├────┼───────────┼────────────────────────────┼────────────────────────────────┼──────────┤\n",
      "│  1 │     73319 │ Leap Year                  │ Comedy|Romance                 │  3.31296 │\n",
      "├────┼───────────┼────────────────────────────┼────────────────────────────────┼──────────┤\n",
      "│  2 │     73321 │ Book of Eli, The           │ Action|Adventure|Drama         │  3.45985 │\n",
      "├────┼───────────┼────────────────────────────┼────────────────────────────────┼──────────┤\n",
      "│  3 │     73744 │ If You Love (Jos rakastat) │ Drama|Musical|Romance          │  2.66667 │\n",
      "├────┼───────────┼────────────────────────────┼────────────────────────────────┼──────────┤\n",
      "│  4 │     73929 │ Legion                     │ Action|Fantasy|Horror|Thriller │  2.62384 │\n",
      "╘════╧═══════════╧════════════════════════════╧════════════════════════════════╧══════════╛\n",
      " \n"
     ]
    }
   ],
   "source": [
    "# merge the 'movie_df' and 'rating_df' DataFrames together based on the 'movieId' column\n",
    "new_df = pd.merge(movie_df, rating_df, left_index=False, right_index=False, how='inner', on='movieId')\n",
    "new_df = new_df.sort_values('movieId')\n",
    "new_df = new_df.drop(columns=['year'])\n",
    "new_df.tail()\n",
    "print(' ')\n",
    "print('Display new_df:')\n",
    "print(tabulate(new_df[:5], headers='keys', tablefmt='fancy_grid'))\n",
    "print(' ')"
   ]
  },
  {
   "cell_type": "markdown",
   "id": "2777545c",
   "metadata": {},
   "source": [
    "## Exploratory Data Analysis"
   ]
  },
  {
   "cell_type": "code",
   "execution_count": 6,
   "id": "6a3f6bd5",
   "metadata": {},
   "outputs": [
    {
     "data": {
      "text/plain": [
       "Drama                                2977\n",
       "Documentary                          2532\n",
       "Comedy                               1832\n",
       "(no genres listed)                   1393\n",
       "Comedy|Drama                          877\n",
       "                                     ... \n",
       "Action|Fantasy|Thriller|IMAX            1\n",
       "Animation|Comedy|Romance|Sci-Fi         1\n",
       "Action|Adventure|Mystery|Thriller       1\n",
       "Fantasy|Sci-Fi|Thriller                 1\n",
       "Animation|Fantasy|Romance               1\n",
       "Name: genres, Length: 830, dtype: int64"
      ]
     },
     "execution_count": 6,
     "metadata": {},
     "output_type": "execute_result"
    }
   ],
   "source": [
    "# Which genres have the most movies?\n",
    "genre_count = new_df['genres'].value_counts()\n",
    "genre_count"
   ]
  },
  {
   "cell_type": "code",
   "execution_count": 7,
   "id": "b32a694b",
   "metadata": {},
   "outputs": [
    {
     "data": {
      "image/png": "[encoded data removed]",
      "text/plain": [
       "<Figure size 432x288 with 1 Axes>"
      ]
     },
     "metadata": {
      "needs_background": "light"
     },
     "output_type": "display_data"
    }
   ],
   "source": [
    "# Bar graph of top 10 genres by count\n",
    "genre_df = pd.DataFrame(genre_count)\n",
    "genre_df = genre_df.rename(columns={'genres':'count'}).sort_values('count',ascending=False).head(10)\n",
    "\n",
    "plt.bar(genre_df.index, genre_df['count'])\n",
    "plt.xlabel('Movies')\n",
    "plt.ylabel('Count')\n",
    "plt.xticks(rotation=45)\n",
    "plt.title('Movie Count by Genre')\n",
    "plt.show()"
   ]
  },
  {
   "cell_type": "code",
   "execution_count": 8,
   "id": "c7cdb7cc",
   "metadata": {},
   "outputs": [
    {
     "data": {
      "text/plain": [
       "genres\n",
       "Animation|Drama                3.635456\n",
       "Documentary|War                3.625498\n",
       "Animation|Comedy|Fantasy       3.594765\n",
       "Adventure|Animation|Fantasy    3.583558\n",
       "Documentary|Musical            3.571758\n",
       "Children|Drama|Fantasy         3.566524\n",
       "Drama|Fantasy|Mystery          3.543320\n",
       "Comedy|Drama|Musical           3.468159\n",
       "Adventure|Comedy|Drama         3.467543\n",
       "Animation|Drama|Romance        3.464716\n",
       "Name: rating, dtype: float64"
      ]
     },
     "execution_count": 8,
     "metadata": {},
     "output_type": "execute_result"
    }
   ],
   "source": [
    "# Which genres have the highest average rating?\n",
    "genre_value_counts = new_df['genres'].value_counts()\n",
    "selected_genres = genre_value_counts[genre_value_counts > 5].index\n",
    "selected_df = new_df[new_df['genres'].isin(selected_genres)]\n",
    "genre_ratings = selected_df.groupby('genres')['rating'].mean().sort_values(ascending=False).head(10)\n",
    "genre_ratings"
   ]
  },
  {
   "cell_type": "code",
   "execution_count": 9,
   "id": "5874af0c",
   "metadata": {},
   "outputs": [
    {
     "data": {
      "image/png": "[encoded data removed]",
      "text/plain": [
       "<Figure size 432x288 with 1 Axes>"
      ]
     },
     "metadata": {
      "needs_background": "light"
     },
     "output_type": "display_data"
    }
   ],
   "source": [
    "# Bar graph of top 10 genres by rating\n",
    "plt.bar(genre_ratings.index,genre_ratings.values)\n",
    "plt.xlabel('Genre')\n",
    "plt.ylabel('Rating')\n",
    "plt.xticks(rotation=45)\n",
    "plt.title('Average Rating by Genre')\n",
    "plt.show()"
   ]
  },
  {
   "cell_type": "markdown",
   "id": "8147db74",
   "metadata": {},
   "source": [
    "## Movie Recommender Model\n"
   ]
  },
  {
   "cell_type": "markdown",
   "id": "5eb52a3d",
   "metadata": {},
   "source": [
    "### Basic Knowledge of CountVectorizer : https://towardsdatascience.com/basics-of-countvectorizer-e26677900f9c"
   ]
  },
  {
   "cell_type": "code",
   "execution_count": 10,
   "id": "0239563e",
   "metadata": {},
   "outputs": [],
   "source": [
    "from sklearn.model_selection import train_test_split\n",
    "from sklearn.metrics.pairwise import cosine_similarity\n",
    "\n",
    "# Split the dataset into training and test sets\n",
    "train_df, test_df = train_test_split(new_df, test_size=0.2, random_state=42)\n",
    "\n",
    "# Extract features from genres using CountVectorizer on the training set\n",
    "vectorizer = CountVectorizer(tokenizer=lambda x: x.split('|'))\n",
    "X_train = vectorizer.fit_transform(train_df['genres'])\n",
    "\n",
    "# Compute pairwise cosine similarity between genre vectors on the training set\n",
    "cosine_sim_train = cosine_similarity(X_train)\n",
    "\n",
    "# Extract features from genres using CountVectorizer on the test set\n",
    "X_test = vectorizer.transform(test_df['genres'])\n",
    "\n",
    "# Compute pairwise cosine similarity between genre vectors on the test set\n",
    "cosine_sim_test = cosine_similarity(X_test)"
   ]
  },
  {
   "cell_type": "code",
   "execution_count": 11,
   "id": "96125d73",
   "metadata": {},
   "outputs": [],
   "source": [
    "# Create a function to recommend similar movies based on a given movie from the test set\n",
    "def recommend_similar_movies(movie_title, n=10):\n",
    "    # Get the index of the given movie in the test set\n",
    "    movie_index = test_df[test_df['title'] == movie_title].index\n",
    "    if len(movie_index) == 0:\n",
    "        print(f\"Movie '{movie_title}' not found in the dataset.\")\n",
    "        return None\n",
    "    movie_index = movie_index[0]\n",
    "    \n",
    "    # Get the cosine similarity scores for the given movie from the test set\n",
    "    similarity_scores = cosine_sim_test[movie_index]\n",
    "    \n",
    "    # Sort the movies based on similarity scores in descending order\n",
    "    similar_movie_indices = np.argsort(similarity_scores)[::-1][:n]\n",
    "    similarity_scores = similarity_scores[similar_movie_indices]\n",
    "    \n",
    "    # Get the titles, genres, and ratings of top similar movies from the test set\n",
    "    similar_movies = test_df.loc[similar_movie_indices]['title']\n",
    "    top_genres = test_df.loc[similar_movie_indices]['genres']\n",
    "    top_ratings = test_df.loc[similar_movie_indices]['rating']\n",
    "    \n",
    "    # Sort the movies by rating in descending order\n",
    "    sorted_indices = np.argsort(top_ratings)[::-1]\n",
    "    similar_movies = similar_movies.iloc[sorted_indices]\n",
    "    top_genres = top_genres.iloc[sorted_indices]\n",
    "    top_ratings = top_ratings.iloc[sorted_indices]\n",
    "    \n",
    "    return similar_movies, similarity_scores, top_genres, top_ratings"
   ]
  },
  {
   "cell_type": "code",
   "execution_count": 12,
   "id": "3b2bf769",
   "metadata": {},
   "outputs": [
    {
     "data": {
      "text/html": [
       "<div>\n",
       "<style scoped>\n",
       "    .dataframe tbody tr th:only-of-type {\n",
       "        vertical-align: middle;\n",
       "    }\n",
       "\n",
       "    .dataframe tbody tr th {\n",
       "        vertical-align: top;\n",
       "    }\n",
       "\n",
       "    .dataframe thead th {\n",
       "        text-align: right;\n",
       "    }\n",
       "</style>\n",
       "<table border=\"1\" class=\"dataframe\">\n",
       "  <thead>\n",
       "    <tr style=\"text-align: right;\">\n",
       "      <th></th>\n",
       "      <th>movieId</th>\n",
       "      <th>title</th>\n",
       "      <th>genres</th>\n",
       "      <th>rating</th>\n",
       "    </tr>\n",
       "  </thead>\n",
       "  <tbody>\n",
       "    <tr>\n",
       "      <th>0</th>\n",
       "      <td>162964</td>\n",
       "      <td>Last Hijack</td>\n",
       "      <td>Animation|Documentary</td>\n",
       "      <td>3.500000</td>\n",
       "    </tr>\n",
       "    <tr>\n",
       "      <th>1</th>\n",
       "      <td>144222</td>\n",
       "      <td>Bros Before Hos</td>\n",
       "      <td>Comedy</td>\n",
       "      <td>2.611111</td>\n",
       "    </tr>\n",
       "    <tr>\n",
       "      <th>2</th>\n",
       "      <td>168156</td>\n",
       "      <td>Deserted Cities</td>\n",
       "      <td>(no genres listed)</td>\n",
       "      <td>2.416667</td>\n",
       "    </tr>\n",
       "    <tr>\n",
       "      <th>3</th>\n",
       "      <td>163541</td>\n",
       "      <td>Guernica</td>\n",
       "      <td>Drama|Romance|War</td>\n",
       "      <td>3.000000</td>\n",
       "    </tr>\n",
       "    <tr>\n",
       "      <th>4</th>\n",
       "      <td>196399</td>\n",
       "      <td>When Jeff Tried to Save The World</td>\n",
       "      <td>Comedy|Drama</td>\n",
       "      <td>2.928571</td>\n",
       "    </tr>\n",
       "  </tbody>\n",
       "</table>\n",
       "</div>"
      ],
      "text/plain": [
       "   movieId                              title                 genres    rating\n",
       "0   162964                        Last Hijack  Animation|Documentary  3.500000\n",
       "1   144222                    Bros Before Hos                 Comedy  2.611111\n",
       "2   168156                    Deserted Cities     (no genres listed)  2.416667\n",
       "3   163541                           Guernica      Drama|Romance|War  3.000000\n",
       "4   196399  When Jeff Tried to Save The World           Comedy|Drama  2.928571"
      ]
     },
     "execution_count": 12,
     "metadata": {},
     "output_type": "execute_result"
    }
   ],
   "source": [
    "# reset the index of test_df\n",
    "test_df = test_df.reset_index()\n",
    "test_df = test_df.drop(columns=['index'])\n",
    "test_df.head()"
   ]
  },
  {
   "cell_type": "markdown",
   "id": "4e2fc51f",
   "metadata": {},
   "source": [
    "## Movie Recommender Model Testing"
   ]
  },
  {
   "cell_type": "code",
   "execution_count": 13,
   "id": "e8b09eba",
   "metadata": {},
   "outputs": [
    {
     "name": "stdout",
     "output_type": "stream",
     "text": [
      "----------------------------\n",
      "There are 4017 movies in the test dataset\n"
     ]
    }
   ],
   "source": [
    "# make a title list from test_df\n",
    "test_title = test_df['title'].tolist()\n",
    "print('----------------------------')\n",
    "print(f'There are {len(test_title)} movies in the test dataset')"
   ]
  },
  {
   "cell_type": "code",
   "execution_count": 14,
   "id": "4e156465",
   "metadata": {},
   "outputs": [],
   "source": [
    "# make a fuction to plot a bar chart showing the ratings of recommended movies.\n",
    "def plot_similarity_scores(movies, scores):\n",
    "    plt.figure(figsize=(10, 6))\n",
    "    plt.bar(movies, scores, color='blue')\n",
    "    plt.xlabel('Movies')\n",
    "    plt.ylabel('Ratings')\n",
    "    plt.xticks(rotation=90)\n",
    "    plt.title('Scores of Top10 Movie')\n",
    "    plt.show()\n"
   ]
  },
  {
   "cell_type": "code",
   "execution_count": 15,
   "id": "7e28b8c1",
   "metadata": {},
   "outputs": [
    {
     "name": "stdout",
     "output_type": "stream",
     "text": [
      "choose and type a number (0 to 4016): 3131\n",
      "----------------------------\n",
      "Six Degrees of Celebration 1914\n"
     ]
    }
   ],
   "source": [
    "# That the user could enter a movie number within the range of 0-4016 \n",
    "# and convert it into the corresponding movie name.\n",
    "input_movie_order = int(input(\"choose and type a number (0 to 4016): \"))\n",
    "input_movie = test_title[input_movie_order]\n",
    "print('----------------------------')\n",
    "print(input_movie)"
   ]
  },
  {
   "cell_type": "code",
   "execution_count": 16,
   "id": "24c89600",
   "metadata": {},
   "outputs": [],
   "source": [
    "def evaluate_recommendations_by_genres(input_movie):\n",
    "    # Find the actual genres in the DataFrame based on the movie title\n",
    "    actual_genres = new_df.loc[new_df['title'] == input_movie, 'genres'].tolist()\n",
    "    if not actual_genres:\n",
    "        print(f\"Movie '{movie_title}' not found in the dataset.\")\n",
    "        return None\n",
    "    actual_genres = actual_genres[0].split('|')\n",
    "\n",
    "    # Get the recommended movies and their genres\n",
    "    similar_movies, _, top_genres, _ = recommend_similar_movies(input_movie, n=10)\n",
    "\n",
    "    # Get the genres of the recommended movies\n",
    "    recommended_genres = top_genres.str.split('|')\n",
    "\n",
    "    # Compute the accuracy score based on genres\n",
    "    accuracy = sum(any(genre in actual_genres for genre in movie_genres) for movie_genres in recommended_genres) / len(recommended_genres)\n",
    "\n",
    "    return accuracy"
   ]
  },
  {
   "cell_type": "code",
   "execution_count": 17,
   "id": "7c3b811e",
   "metadata": {},
   "outputs": [
    {
     "data": {
      "text/plain": [
       "list"
      ]
     },
     "execution_count": 17,
     "metadata": {},
     "output_type": "execute_result"
    }
   ],
   "source": [
    "actual_genres = new_df.loc[new_df['title'] == 'Appetites']\n",
    "type(actual_genres['genres'].tolist())"
   ]
  },
  {
   "cell_type": "code",
   "execution_count": 18,
   "id": "26325824",
   "metadata": {},
   "outputs": [],
   "source": [
    "def show_results():\n",
    "    similar_movies, similarity_scores, top_genres, top_ratings = recommend_similar_movies(input_movie, n=10)\n",
    "    if similar_movies is not None:\n",
    "        print(f\"Recommended movies similar to '{input_movie}':\")\n",
    "\n",
    "        for movie, similarity, rating, genres, index in zip(similar_movies, similarity_scores, top_ratings, top_genres, range(1, 11)):\n",
    "            print(f\"Top{index} Movie: {movie}, Similarity: {round(similarity, 7)}, Genres: {genres}\")\n",
    "    score = evaluate_recommendations_by_genres(input_movie)\n",
    "    \n",
    "    print('----------------------------')\n",
    "    print('----------------------------')\n",
    "    print(f'accuracy score is {score}')\n",
    "    plot_similarity_scores(similar_movies, top_ratings)"
   ]
  },
  {
   "cell_type": "code",
   "execution_count": 19,
   "id": "635b4f99",
   "metadata": {},
   "outputs": [
    {
     "name": "stdout",
     "output_type": "stream",
     "text": [
      "Recommended movies similar to 'Six Degrees of Celebration 1914':\n",
      "Top1 Movie: Do-Deca-Pentathlon, The, Similarity: 1.0, Genres: Comedy\n",
      "Top2 Movie: Thi Mai, rumbo a Vietnam, Similarity: 1.0, Genres: Comedy\n",
      "Top3 Movie: El pregón, Similarity: 1.0, Genres: Comedy\n",
      "Top4 Movie: L'abbiamo fatta grossa, Similarity: 1.0, Genres: Comedy\n",
      "Top5 Movie: Mamma o papà?, Similarity: 1.0, Genres: Comedy\n",
      "Top6 Movie: The Way We Weren't, Similarity: 1.0, Genres: Comedy\n",
      "Top7 Movie: Drunk Parents, Similarity: 1.0, Genres: Comedy\n",
      "Top8 Movie: Queen of Montreuil, Similarity: 1.0, Genres: Comedy\n",
      "Top9 Movie: The Limousine, Similarity: 1.0, Genres: Comedy\n",
      "Top10 Movie: Kicking Off, Similarity: 1.0, Genres: Comedy\n",
      "----------------------------\n",
      "----------------------------\n",
      "accuracy score is 1.0\n"
     ]
    },
    {
     "data": {
      "image/png": "[encoded data removed]",
      "text/plain": [
       "<Figure size 720x432 with 1 Axes>"
      ]
     },
     "metadata": {
      "needs_background": "light"
     },
     "output_type": "display_data"
    }
   ],
   "source": [
    "show_results()"
   ]
  },
  {
   "cell_type": "markdown",
   "id": "3636c475",
   "metadata": {},
   "source": [
    "## Rating Predictor Model"
   ]
  },
  {
   "cell_type": "code",
   "execution_count": 20,
   "id": "10556753",
   "metadata": {},
   "outputs": [
    {
     "name": "stderr",
     "output_type": "stream",
     "text": [
      "C:\\Users\\justi\\anaconda3\\lib\\site-packages\\sklearn\\utils\\validation.py:593: FutureWarning: np.matrix usage is deprecated in 1.0 and will raise a TypeError in 1.2. Please convert to a numpy array with np.asarray. For more information see: https://numpy.org/doc/stable/reference/generated/numpy.matrix.html\n",
      "  warnings.warn(\n"
     ]
    },
    {
     "data": {
      "text/plain": [
       "RandomForestRegressor()"
      ]
     },
     "execution_count": 20,
     "metadata": {},
     "output_type": "execute_result"
    }
   ],
   "source": [
    "# Preprocessing: using vectorizer to transform text into numbered matrix\n",
    "genre_feats=vectorizer.transform(new_df['genres'])\n",
    "\n",
    "# Splitting the data into training and testing sets\n",
    "X=genre_feats.todense()\n",
    "y=new_df['rating']\n",
    "X_train, X_test, y_train, y_test = train_test_split(X, y, test_size=0.2, random_state=42)\n",
    "\n",
    "# Initiate Random Forest Regressor model\n",
    "rf=RandomForestRegressor()\n",
    "\n",
    "# Fit on data\n",
    "rf.fit(X_train,  y_train)"
   ]
  },
  {
   "cell_type": "code",
   "execution_count": 21,
   "id": "eb88aaee",
   "metadata": {},
   "outputs": [
    {
     "name": "stdout",
     "output_type": "stream",
     "text": [
      "Mean Squared Error: 0.5665001604173465\n",
      "R-squared Score: 0.0512078851870178\n"
     ]
    },
    {
     "name": "stderr",
     "output_type": "stream",
     "text": [
      "C:\\Users\\justi\\anaconda3\\lib\\site-packages\\sklearn\\utils\\validation.py:593: FutureWarning: np.matrix usage is deprecated in 1.0 and will raise a TypeError in 1.2. Please convert to a numpy array with np.asarray. For more information see: https://numpy.org/doc/stable/reference/generated/numpy.matrix.html\n",
      "  warnings.warn(\n",
      "C:\\Users\\justi\\anaconda3\\lib\\site-packages\\sklearn\\utils\\validation.py:593: FutureWarning: np.matrix usage is deprecated in 1.0 and will raise a TypeError in 1.2. Please convert to a numpy array with np.asarray. For more information see: https://numpy.org/doc/stable/reference/generated/numpy.matrix.html\n",
      "  warnings.warn(\n"
     ]
    }
   ],
   "source": [
    "# Predicting on the test set\n",
    "y_pred = rf.predict(X_test)\n",
    "\n",
    "\n",
    "# Evaluate Model performance\n",
    "mse = mean_squared_error(y_test, y_pred)\n",
    "print(\"Mean Squared Error:\", mse)\n",
    "r2_score = rf.score(X_test, y_test)\n",
    "print(\"R-squared Score:\", r2_score)\n",
    "\n",
    "\n"
   ]
  },
  {
   "cell_type": "markdown",
   "id": "a7bfb80b",
   "metadata": {},
   "source": [
    "## Rating Model Testing"
   ]
  },
  {
   "cell_type": "code",
   "execution_count": 25,
   "id": "b4b0d5ac",
   "metadata": {},
   "outputs": [],
   "source": [
    "def predict_ratings():\n",
    "    print('example input: Action|Comedy|Drama')\n",
    "    user_genre_input = input('choose a genre, use \"|\" between genres if choosing multiple: ')\n",
    "    user_input_vector=vectorizer.transform([user_genre_input])\n",
    "    print('----------------------------')\n",
    "    print(f'the predicted rating for your genre: {rf.predict(user_input_vector)}')"
   ]
  },
  {
   "cell_type": "code",
   "execution_count": 27,
   "id": "5199fd96",
   "metadata": {},
   "outputs": [
    {
     "name": "stdout",
     "output_type": "stream",
     "text": [
      "example input: Action|Comedy|Drama\n",
      "choose a genre, use\"|\" between genres if choosing multiple: Action|Drama\n",
      "----------------------------\n",
      "the predicted rating for your genre: [3.11061447]\n"
     ]
    }
   ],
   "source": [
    "predict_ratings()"
   ]
  },
  {
   "cell_type": "code",
   "execution_count": null,
   "id": "33d48ccc",
   "metadata": {},
   "outputs": [],
   "source": []
  }
 ],
 "metadata": {
  "kernelspec": {
   "display_name": "Python 3 (ipykernel)",
   "language": "python",
   "name": "python3"
  },
  "language_info": {
   "codemirror_mode": {
    "name": "ipython",
    "version": 3
   },
   "file_extension": ".py",
   "mimetype": "text/x-python",
   "name": "python",
   "nbconvert_exporter": "python",
   "pygments_lexer": "ipython3",
   "version": "3.9.12"
  }
 },
 "nbformat": 4,
 "nbformat_minor": 5
}
